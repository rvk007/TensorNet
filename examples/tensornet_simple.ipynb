{
  "nbformat": 4,
  "nbformat_minor": 0,
  "metadata": {
    "kernelspec": {
      "name": "python3",
      "display_name": "Python 3"
    },
    "language_info": {
      "codemirror_mode": {
        "name": "ipython",
        "version": 3
      },
      "file_extension": ".py",
      "mimetype": "text/x-python",
      "name": "python",
      "nbconvert_exporter": "python",
      "pygments_lexer": "ipython3",
      "version": "3.6.6"
    },
    "colab": {
      "name": "tensornet_simple.ipynb",
      "provenance": [],
      "collapsed_sections": []
    },
    "accelerator": "GPU",
    "widgets": {
      "application/vnd.jupyter.widget-state+json": {
        "f8cc284dd2034747bf15bf8b0f6d94fa": {
          "model_module": "@jupyter-widgets/controls",
          "model_name": "HBoxModel",
          "state": {
            "_view_name": "HBoxView",
            "_dom_classes": [],
            "_model_name": "HBoxModel",
            "_view_module": "@jupyter-widgets/controls",
            "_model_module_version": "1.5.0",
            "_view_count": null,
            "_view_module_version": "1.5.0",
            "box_style": "",
            "layout": "IPY_MODEL_7cae549e1b424cd4b4883e806bba7309",
            "_model_module": "@jupyter-widgets/controls",
            "children": [
              "IPY_MODEL_4ea248f1b3eb4eb19fa2045d67961512",
              "IPY_MODEL_3b695aad01b045d495d0fbfdbe42e42f"
            ]
          }
        },
        "7cae549e1b424cd4b4883e806bba7309": {
          "model_module": "@jupyter-widgets/base",
          "model_name": "LayoutModel",
          "state": {
            "_view_name": "LayoutView",
            "grid_template_rows": null,
            "right": null,
            "justify_content": null,
            "_view_module": "@jupyter-widgets/base",
            "overflow": null,
            "_model_module_version": "1.2.0",
            "_view_count": null,
            "flex_flow": null,
            "width": null,
            "min_width": null,
            "border": null,
            "align_items": null,
            "bottom": null,
            "_model_module": "@jupyter-widgets/base",
            "top": null,
            "grid_column": null,
            "overflow_y": null,
            "overflow_x": null,
            "grid_auto_flow": null,
            "grid_area": null,
            "grid_template_columns": null,
            "flex": null,
            "_model_name": "LayoutModel",
            "justify_items": null,
            "grid_row": null,
            "max_height": null,
            "align_content": null,
            "visibility": null,
            "align_self": null,
            "height": null,
            "min_height": null,
            "padding": null,
            "grid_auto_rows": null,
            "grid_gap": null,
            "max_width": null,
            "order": null,
            "_view_module_version": "1.2.0",
            "grid_template_areas": null,
            "object_position": null,
            "object_fit": null,
            "grid_auto_columns": null,
            "margin": null,
            "display": null,
            "left": null
          }
        },
        "4ea248f1b3eb4eb19fa2045d67961512": {
          "model_module": "@jupyter-widgets/controls",
          "model_name": "FloatProgressModel",
          "state": {
            "_view_name": "ProgressView",
            "style": "IPY_MODEL_9da9f188eef746f0bd4c068f9092f202",
            "_dom_classes": [],
            "description": "",
            "_model_name": "FloatProgressModel",
            "bar_style": "info",
            "max": 1,
            "_view_module": "@jupyter-widgets/controls",
            "_model_module_version": "1.5.0",
            "value": 1,
            "_view_count": null,
            "_view_module_version": "1.5.0",
            "orientation": "horizontal",
            "min": 0,
            "description_tooltip": null,
            "_model_module": "@jupyter-widgets/controls",
            "layout": "IPY_MODEL_94e3c1f6af75409daa550f8a0a7daecd"
          }
        },
        "3b695aad01b045d495d0fbfdbe42e42f": {
          "model_module": "@jupyter-widgets/controls",
          "model_name": "HTMLModel",
          "state": {
            "_view_name": "HTMLView",
            "style": "IPY_MODEL_93fed4cb0c50466dab824c5596f7c0a3",
            "_dom_classes": [],
            "description": "",
            "_model_name": "HTMLModel",
            "placeholder": "​",
            "_view_module": "@jupyter-widgets/controls",
            "_model_module_version": "1.5.0",
            "value": " 170500096/? [00:30&lt;00:00, 14440467.09it/s]",
            "_view_count": null,
            "_view_module_version": "1.5.0",
            "description_tooltip": null,
            "_model_module": "@jupyter-widgets/controls",
            "layout": "IPY_MODEL_48ed62f0897545fca86d54f1caa92da3"
          }
        },
        "9da9f188eef746f0bd4c068f9092f202": {
          "model_module": "@jupyter-widgets/controls",
          "model_name": "ProgressStyleModel",
          "state": {
            "_view_name": "StyleView",
            "_model_name": "ProgressStyleModel",
            "description_width": "initial",
            "_view_module": "@jupyter-widgets/base",
            "_model_module_version": "1.5.0",
            "_view_count": null,
            "_view_module_version": "1.2.0",
            "bar_color": null,
            "_model_module": "@jupyter-widgets/controls"
          }
        },
        "94e3c1f6af75409daa550f8a0a7daecd": {
          "model_module": "@jupyter-widgets/base",
          "model_name": "LayoutModel",
          "state": {
            "_view_name": "LayoutView",
            "grid_template_rows": null,
            "right": null,
            "justify_content": null,
            "_view_module": "@jupyter-widgets/base",
            "overflow": null,
            "_model_module_version": "1.2.0",
            "_view_count": null,
            "flex_flow": null,
            "width": null,
            "min_width": null,
            "border": null,
            "align_items": null,
            "bottom": null,
            "_model_module": "@jupyter-widgets/base",
            "top": null,
            "grid_column": null,
            "overflow_y": null,
            "overflow_x": null,
            "grid_auto_flow": null,
            "grid_area": null,
            "grid_template_columns": null,
            "flex": null,
            "_model_name": "LayoutModel",
            "justify_items": null,
            "grid_row": null,
            "max_height": null,
            "align_content": null,
            "visibility": null,
            "align_self": null,
            "height": null,
            "min_height": null,
            "padding": null,
            "grid_auto_rows": null,
            "grid_gap": null,
            "max_width": null,
            "order": null,
            "_view_module_version": "1.2.0",
            "grid_template_areas": null,
            "object_position": null,
            "object_fit": null,
            "grid_auto_columns": null,
            "margin": null,
            "display": null,
            "left": null
          }
        },
        "93fed4cb0c50466dab824c5596f7c0a3": {
          "model_module": "@jupyter-widgets/controls",
          "model_name": "DescriptionStyleModel",
          "state": {
            "_view_name": "StyleView",
            "_model_name": "DescriptionStyleModel",
            "description_width": "",
            "_view_module": "@jupyter-widgets/base",
            "_model_module_version": "1.5.0",
            "_view_count": null,
            "_view_module_version": "1.2.0",
            "_model_module": "@jupyter-widgets/controls"
          }
        },
        "48ed62f0897545fca86d54f1caa92da3": {
          "model_module": "@jupyter-widgets/base",
          "model_name": "LayoutModel",
          "state": {
            "_view_name": "LayoutView",
            "grid_template_rows": null,
            "right": null,
            "justify_content": null,
            "_view_module": "@jupyter-widgets/base",
            "overflow": null,
            "_model_module_version": "1.2.0",
            "_view_count": null,
            "flex_flow": null,
            "width": null,
            "min_width": null,
            "border": null,
            "align_items": null,
            "bottom": null,
            "_model_module": "@jupyter-widgets/base",
            "top": null,
            "grid_column": null,
            "overflow_y": null,
            "overflow_x": null,
            "grid_auto_flow": null,
            "grid_area": null,
            "grid_template_columns": null,
            "flex": null,
            "_model_name": "LayoutModel",
            "justify_items": null,
            "grid_row": null,
            "max_height": null,
            "align_content": null,
            "visibility": null,
            "align_self": null,
            "height": null,
            "min_height": null,
            "padding": null,
            "grid_auto_rows": null,
            "grid_gap": null,
            "max_width": null,
            "order": null,
            "_view_module_version": "1.2.0",
            "grid_template_areas": null,
            "object_position": null,
            "object_fit": null,
            "grid_auto_columns": null,
            "margin": null,
            "display": null,
            "left": null
          }
        }
      }
    }
  },
  "cells": [
    {
      "cell_type": "markdown",
      "metadata": {
        "id": "fj2Pu3zBSJy1",
        "colab_type": "text"
      },
      "source": [
        "# Installing Packages"
      ]
    },
    {
      "cell_type": "code",
      "metadata": {
        "id": "mjnxH6xcdhNz",
        "colab_type": "code",
        "colab": {}
      },
      "source": [
        "!pip install --no-cache-dir torch-tensornet torchsummary==1.5.1"
      ],
      "execution_count": 0,
      "outputs": []
    },
    {
      "cell_type": "markdown",
      "metadata": {
        "id": "aO-7t1Y7-hV4",
        "colab_type": "text"
      },
      "source": [
        "# Imports\n",
        "Importing necessary packages and modules"
      ]
    },
    {
      "cell_type": "code",
      "metadata": {
        "id": "-yVpodAMpoCi",
        "colab_type": "code",
        "colab": {}
      },
      "source": [
        "%matplotlib inline\n",
        "\n",
        "import matplotlib.pyplot as plt\n",
        "from torchsummary import summary\n",
        "\n",
        "from tensornet import train, evaluate\n",
        "from tensornet.data import CIFAR10\n",
        "from tensornet.model import ResNet18\n",
        "from tensornet.model.utils.loss import cross_entropy_loss\n",
        "from tensornet.model.utils.optimizers import sgd_optimizer\n",
        "from tensornet.utils import initialize_cuda, class_level_accuracy"
      ],
      "execution_count": 0,
      "outputs": []
    },
    {
      "cell_type": "markdown",
      "metadata": {
        "id": "-7CMwrhPDw5b",
        "colab_type": "text"
      },
      "source": [
        "# Configuration\n",
        "\n",
        "Set various parameters and hyperparameters"
      ]
    },
    {
      "cell_type": "code",
      "metadata": {
        "id": "cq_Mo-qRD79h",
        "colab_type": "code",
        "colab": {}
      },
      "source": [
        "class Args:\n",
        "\n",
        "    # Data Loading\n",
        "    # ============\n",
        "\n",
        "    train_batch_size = 64\n",
        "    val_batch_size = 64\n",
        "    num_workers = 4\n",
        "\n",
        "    # Augmentation\n",
        "    # ============\n",
        "    horizontal_flip_prob = 0.2\n",
        "    rotate_degree = 20\n",
        "    cutout = 0.3\n",
        "\n",
        "    # Training\n",
        "    # ========\n",
        "    random_seed = 1\n",
        "    epochs = 30\n",
        "    learning_rate = 0.01\n",
        "    momentum = 0.9"
      ],
      "execution_count": 0,
      "outputs": []
    },
    {
      "cell_type": "markdown",
      "metadata": {
        "id": "Ve_XDp27GSN_",
        "colab_type": "text"
      },
      "source": [
        "## Set Seed and Get GPU Availability"
      ]
    },
    {
      "cell_type": "code",
      "metadata": {
        "id": "CxVy79mmfQ1e",
        "colab_type": "code",
        "outputId": "6d4b435c-f49c-4f5d-8dcd-5e28bb33d6d0",
        "colab": {
          "base_uri": "https://localhost:8080/",
          "height": 34
        }
      },
      "source": [
        "# Initialize CUDA and set random seed\n",
        "cuda, device = initialize_cuda(Args.random_seed)"
      ],
      "execution_count": 3,
      "outputs": [
        {
          "output_type": "stream",
          "text": [
            "GPU Available? True\n"
          ],
          "name": "stdout"
        }
      ]
    },
    {
      "cell_type": "markdown",
      "metadata": {
        "id": "cKi2t8X-CKJ5",
        "colab_type": "text"
      },
      "source": [
        "## Download Dataset\n",
        "\n",
        "Importing the CIFAR-10 class to download dataset and create data loader"
      ]
    },
    {
      "cell_type": "code",
      "metadata": {
        "id": "QZjDtZVLGXh-",
        "colab_type": "code",
        "outputId": "6a950401-23d5-4c5d-ed5c-09141c20f007",
        "colab": {
          "base_uri": "https://localhost:8080/",
          "height": 120,
          "referenced_widgets": [
            "f8cc284dd2034747bf15bf8b0f6d94fa",
            "7cae549e1b424cd4b4883e806bba7309",
            "4ea248f1b3eb4eb19fa2045d67961512",
            "3b695aad01b045d495d0fbfdbe42e42f",
            "9da9f188eef746f0bd4c068f9092f202",
            "94e3c1f6af75409daa550f8a0a7daecd",
            "93fed4cb0c50466dab824c5596f7c0a3",
            "48ed62f0897545fca86d54f1caa92da3"
          ]
        }
      },
      "source": [
        "dataset = CIFAR10(\n",
        "    train_batch_size=Args.train_batch_size,\n",
        "    val_batch_size=Args.val_batch_size,\n",
        "    cuda=cuda,\n",
        "    num_workers=Args.num_workers,\n",
        "    horizontal_flip_prob=Args.horizontal_flip_prob,\n",
        "    rotate_degree=Args.rotate_degree,\n",
        "    cutout=Args.cutout\n",
        ")"
      ],
      "execution_count": 4,
      "outputs": [
        {
          "output_type": "stream",
          "text": [
            "Downloading https://www.cs.toronto.edu/~kriz/cifar-10-python.tar.gz to /usr/local/lib/python3.6/dist-packages/tensornet/data/cifar10/cifar-10-python.tar.gz\n"
          ],
          "name": "stdout"
        },
        {
          "output_type": "display_data",
          "data": {
            "application/vnd.jupyter.widget-view+json": {
              "model_id": "f8cc284dd2034747bf15bf8b0f6d94fa",
              "version_minor": 0,
              "version_major": 2
            },
            "text/plain": [
              "HBox(children=(FloatProgress(value=1.0, bar_style='info', max=1.0), HTML(value='')))"
            ]
          },
          "metadata": {
            "tags": []
          }
        },
        {
          "output_type": "stream",
          "text": [
            "Extracting /usr/local/lib/python3.6/dist-packages/tensornet/data/cifar10/cifar-10-python.tar.gz to /usr/local/lib/python3.6/dist-packages/tensornet/data/cifar10\n",
            "Files already downloaded and verified\n",
            "Files already downloaded and verified\n"
          ],
          "name": "stdout"
        }
      ]
    },
    {
      "cell_type": "markdown",
      "metadata": {
        "id": "ffnfhydPLQk5",
        "colab_type": "text"
      },
      "source": [
        "## Data Visualization\n",
        "Let's see how our data looks like. This information will help us decide the transformations that can be used on the dataset."
      ]
    },
    {
      "cell_type": "code",
      "metadata": {
        "id": "64DsLU70psRP",
        "colab_type": "code",
        "outputId": "4f77962a-b50e-40ba-b47c-72744baa9115",
        "colab": {
          "base_uri": "https://localhost:8080/",
          "height": 146
        }
      },
      "source": [
        "# Fetch data\n",
        "classes = dataset.classes\n",
        "sample_data, sample_targets = dataset.data()\n",
        "\n",
        "# Set number of images to display\n",
        "num_images = 4\n",
        "\n",
        "# Display images with labels\n",
        "fig, axs = plt.subplots(1, 4, figsize=(8, 8))\n",
        "fig.tight_layout()\n",
        "\n",
        "for i in range(num_images):\n",
        "    axs[i].axis('off')\n",
        "    axs[i].set_title(f'Label: {classes[sample_targets[i]]}')\n",
        "    axs[i].imshow(sample_data[i])"
      ],
      "execution_count": 7,
      "outputs": [
        {
          "output_type": "display_data",
          "data": {
            "image/png": "[encoded data removed]",
            "text/plain": [
              "<Figure size 576x576 with 4 Axes>"
            ]
          },
          "metadata": {
            "tags": []
          }
        }
      ]
    },
    {
      "cell_type": "markdown",
      "metadata": {
        "id": "qFcWRAeY_MsB",
        "colab_type": "text"
      },
      "source": [
        "## Training and Validation Dataloaders\n",
        "This is the final step in data preparation. It sets the dataloader arguments and then creates the dataloader"
      ]
    },
    {
      "cell_type": "code",
      "metadata": {
        "id": "D8Tjigo2poCl",
        "colab_type": "code",
        "colab": {}
      },
      "source": [
        "# Create train data loader\n",
        "train_loader = dataset.loader(train=True)\n",
        "\n",
        "# Create val data loader\n",
        "val_loader = dataset.loader(train=False)"
      ],
      "execution_count": 0,
      "outputs": []
    },
    {
      "cell_type": "markdown",
      "metadata": {
        "id": "HSeDIqBq-6pC",
        "colab_type": "text"
      },
      "source": [
        "# Model Architecture and Summary"
      ]
    },
    {
      "cell_type": "code",
      "metadata": {
        "id": "K1NZ7kqezHG7",
        "colab_type": "code",
        "outputId": "79920d7c-e588-4d60-b068-b23672065999",
        "colab": {
          "base_uri": "https://localhost:8080/",
          "height": 1000
        }
      },
      "source": [
        "model = ResNet18().to(device)  # Create model\n",
        "summary(model, dataset.image_size)  # Display model summary"
      ],
      "execution_count": 9,
      "outputs": [
        {
          "output_type": "stream",
          "text": [
            "----------------------------------------------------------------\n",
            "        Layer (type)               Output Shape         Param #\n",
            "================================================================\n",
            "            Conv2d-1           [-1, 64, 32, 32]           1,728\n",
            "       BatchNorm2d-2           [-1, 64, 32, 32]             128\n",
            "            Conv2d-3           [-1, 64, 32, 32]          36,864\n",
            "       BatchNorm2d-4           [-1, 64, 32, 32]             128\n",
            "            Conv2d-5           [-1, 64, 32, 32]          36,864\n",
            "       BatchNorm2d-6           [-1, 64, 32, 32]             128\n",
            "        BasicBlock-7           [-1, 64, 32, 32]               0\n",
            "            Conv2d-8           [-1, 64, 32, 32]          36,864\n",
            "       BatchNorm2d-9           [-1, 64, 32, 32]             128\n",
            "           Conv2d-10           [-1, 64, 32, 32]          36,864\n",
            "      BatchNorm2d-11           [-1, 64, 32, 32]             128\n",
            "       BasicBlock-12           [-1, 64, 32, 32]               0\n",
            "           Conv2d-13          [-1, 128, 16, 16]          73,728\n",
            "      BatchNorm2d-14          [-1, 128, 16, 16]             256\n",
            "           Conv2d-15          [-1, 128, 16, 16]         147,456\n",
            "      BatchNorm2d-16          [-1, 128, 16, 16]             256\n",
            "           Conv2d-17          [-1, 128, 16, 16]           8,192\n",
            "      BatchNorm2d-18          [-1, 128, 16, 16]             256\n",
            "       BasicBlock-19          [-1, 128, 16, 16]               0\n",
            "           Conv2d-20          [-1, 128, 16, 16]         147,456\n",
            "      BatchNorm2d-21          [-1, 128, 16, 16]             256\n",
            "           Conv2d-22          [-1, 128, 16, 16]         147,456\n",
            "      BatchNorm2d-23          [-1, 128, 16, 16]             256\n",
            "       BasicBlock-24          [-1, 128, 16, 16]               0\n",
            "           Conv2d-25            [-1, 256, 8, 8]         294,912\n",
            "      BatchNorm2d-26            [-1, 256, 8, 8]             512\n",
            "           Conv2d-27            [-1, 256, 8, 8]         589,824\n",
            "      BatchNorm2d-28            [-1, 256, 8, 8]             512\n",
            "           Conv2d-29            [-1, 256, 8, 8]          32,768\n",
            "      BatchNorm2d-30            [-1, 256, 8, 8]             512\n",
            "       BasicBlock-31            [-1, 256, 8, 8]               0\n",
            "           Conv2d-32            [-1, 256, 8, 8]         589,824\n",
            "      BatchNorm2d-33            [-1, 256, 8, 8]             512\n",
            "           Conv2d-34            [-1, 256, 8, 8]         589,824\n",
            "      BatchNorm2d-35            [-1, 256, 8, 8]             512\n",
            "       BasicBlock-36            [-1, 256, 8, 8]               0\n",
            "           Conv2d-37            [-1, 512, 4, 4]       1,179,648\n",
            "      BatchNorm2d-38            [-1, 512, 4, 4]           1,024\n",
            "           Conv2d-39            [-1, 512, 4, 4]       2,359,296\n",
            "      BatchNorm2d-40            [-1, 512, 4, 4]           1,024\n",
            "           Conv2d-41            [-1, 512, 4, 4]         131,072\n",
            "      BatchNorm2d-42            [-1, 512, 4, 4]           1,024\n",
            "       BasicBlock-43            [-1, 512, 4, 4]               0\n",
            "           Conv2d-44            [-1, 512, 4, 4]       2,359,296\n",
            "      BatchNorm2d-45            [-1, 512, 4, 4]           1,024\n",
            "           Conv2d-46            [-1, 512, 4, 4]       2,359,296\n",
            "      BatchNorm2d-47            [-1, 512, 4, 4]           1,024\n",
            "       BasicBlock-48            [-1, 512, 4, 4]               0\n",
            "           Linear-49                   [-1, 10]           5,130\n",
            "================================================================\n",
            "Total params: 11,173,962\n",
            "Trainable params: 11,173,962\n",
            "Non-trainable params: 0\n",
            "----------------------------------------------------------------\n",
            "Input size (MB): 0.01\n",
            "Forward/backward pass size (MB): 11.25\n",
            "Params size (MB): 42.63\n",
            "Estimated Total Size (MB): 53.89\n",
            "----------------------------------------------------------------\n"
          ],
          "name": "stdout"
        }
      ]
    },
    {
      "cell_type": "markdown",
      "metadata": {
        "id": "HcyKrcQEGcdp",
        "colab_type": "text"
      },
      "source": [
        "# Model Training and Validation"
      ]
    },
    {
      "cell_type": "code",
      "metadata": {
        "id": "Pk83iZb2uaEA",
        "colab_type": "code",
        "outputId": "7d56234d-b5cf-4bfd-9d23-d1ab7067ee43",
        "colab": {
          "base_uri": "https://localhost:8080/",
          "height": 1000
        }
      },
      "source": [
        "criterion = cross_entropy_loss()  # Create loss function\n",
        "optimizer = sgd_optimizer(model, Args.learning_rate, Args.momentum)  # Create optimizer\n",
        "\n",
        "for epoch in range(1, Args.epochs + 1):\n",
        "    print(f'Epoch {epoch}:')\n",
        "    train(model, train_loader, device, optimizer, criterion)\n",
        "    evaluate(model, val_loader, device, criterion)"
      ],
      "execution_count": 10,
      "outputs": [
        {
          "output_type": "stream",
          "text": [
            "\r  0%|          | 0/782 [00:00<?, ?it/s]"
          ],
          "name": "stderr"
        },
        {
          "output_type": "stream",
          "text": [
            "Epoch 1:\n"
          ],
          "name": "stdout"
        },
        {
          "output_type": "stream",
          "text": [
            "Loss=0.99 Batch_ID=781 Accuracy=49.86: 100%|██████████| 782/782 [01:06<00:00, 11.73it/s]\n",
            "  0%|          | 0/782 [00:00<?, ?it/s]"
          ],
          "name": "stderr"
        },
        {
          "output_type": "stream",
          "text": [
            "\n",
            "Validation set: Average loss: 0.0148, Accuracy: 6647/10000 (66.47%)\n",
            "\n",
            "Epoch 2:\n"
          ],
          "name": "stdout"
        },
        {
          "output_type": "stream",
          "text": [
            "Loss=1.00 Batch_ID=781 Accuracy=68.35: 100%|██████████| 782/782 [01:07<00:00, 11.56it/s]\n",
            "  0%|          | 0/782 [00:00<?, ?it/s]"
          ],
          "name": "stderr"
        },
        {
          "output_type": "stream",
          "text": [
            "\n",
            "Validation set: Average loss: 0.0119, Accuracy: 7386/10000 (73.86%)\n",
            "\n",
            "Epoch 3:\n"
          ],
          "name": "stdout"
        },
        {
          "output_type": "stream",
          "text": [
            "Loss=1.25 Batch_ID=781 Accuracy=75.36: 100%|██████████| 782/782 [01:07<00:00, 11.51it/s]\n",
            "  0%|          | 0/782 [00:00<?, ?it/s]"
          ],
          "name": "stderr"
        },
        {
          "output_type": "stream",
          "text": [
            "\n",
            "Validation set: Average loss: 0.0102, Accuracy: 7739/10000 (77.39%)\n",
            "\n",
            "Epoch 4:\n"
          ],
          "name": "stdout"
        },
        {
          "output_type": "stream",
          "text": [
            "Loss=0.54 Batch_ID=781 Accuracy=79.09: 100%|██████████| 782/782 [01:07<00:00, 11.53it/s]\n",
            "  0%|          | 0/782 [00:00<?, ?it/s]"
          ],
          "name": "stderr"
        },
        {
          "output_type": "stream",
          "text": [
            "\n",
            "Validation set: Average loss: 0.0095, Accuracy: 7990/10000 (79.90%)\n",
            "\n",
            "Epoch 5:\n"
          ],
          "name": "stdout"
        },
        {
          "output_type": "stream",
          "text": [
            "Loss=1.35 Batch_ID=781 Accuracy=81.90: 100%|██████████| 782/782 [01:07<00:00, 11.52it/s]\n",
            "  0%|          | 0/782 [00:00<?, ?it/s]"
          ],
          "name": "stderr"
        },
        {
          "output_type": "stream",
          "text": [
            "\n",
            "Validation set: Average loss: 0.0082, Accuracy: 8241/10000 (82.41%)\n",
            "\n",
            "Epoch 6:\n"
          ],
          "name": "stdout"
        },
        {
          "output_type": "stream",
          "text": [
            "Loss=0.65 Batch_ID=781 Accuracy=84.39: 100%|██████████| 782/782 [01:07<00:00, 11.51it/s]\n",
            "  0%|          | 0/782 [00:00<?, ?it/s]"
          ],
          "name": "stderr"
        },
        {
          "output_type": "stream",
          "text": [
            "\n",
            "Validation set: Average loss: 0.0081, Accuracy: 8360/10000 (83.60%)\n",
            "\n",
            "Epoch 7:\n"
          ],
          "name": "stdout"
        },
        {
          "output_type": "stream",
          "text": [
            "Loss=0.42 Batch_ID=781 Accuracy=85.62: 100%|██████████| 782/782 [01:07<00:00, 11.54it/s]\n",
            "  0%|          | 0/782 [00:00<?, ?it/s]"
          ],
          "name": "stderr"
        },
        {
          "output_type": "stream",
          "text": [
            "\n",
            "Validation set: Average loss: 0.0073, Accuracy: 8425/10000 (84.25%)\n",
            "\n",
            "Epoch 8:\n"
          ],
          "name": "stdout"
        },
        {
          "output_type": "stream",
          "text": [
            "Loss=0.22 Batch_ID=781 Accuracy=86.92: 100%|██████████| 782/782 [01:07<00:00, 11.56it/s]\n",
            "  0%|          | 0/782 [00:00<?, ?it/s]"
          ],
          "name": "stderr"
        },
        {
          "output_type": "stream",
          "text": [
            "\n",
            "Validation set: Average loss: 0.0078, Accuracy: 8391/10000 (83.91%)\n",
            "\n",
            "Epoch 9:\n"
          ],
          "name": "stdout"
        },
        {
          "output_type": "stream",
          "text": [
            "Loss=0.52 Batch_ID=781 Accuracy=88.27: 100%|██████████| 782/782 [01:07<00:00, 11.58it/s]\n",
            "  0%|          | 0/782 [00:00<?, ?it/s]"
          ],
          "name": "stderr"
        },
        {
          "output_type": "stream",
          "text": [
            "\n",
            "Validation set: Average loss: 0.0068, Accuracy: 8601/10000 (86.01%)\n",
            "\n",
            "Epoch 10:\n"
          ],
          "name": "stdout"
        },
        {
          "output_type": "stream",
          "text": [
            "Loss=0.44 Batch_ID=781 Accuracy=89.34: 100%|██████████| 782/782 [01:07<00:00, 11.60it/s]\n",
            "  0%|          | 0/782 [00:00<?, ?it/s]"
          ],
          "name": "stderr"
        },
        {
          "output_type": "stream",
          "text": [
            "\n",
            "Validation set: Average loss: 0.0060, Accuracy: 8717/10000 (87.17%)\n",
            "\n",
            "Epoch 11:\n"
          ],
          "name": "stdout"
        },
        {
          "output_type": "stream",
          "text": [
            "Loss=0.19 Batch_ID=781 Accuracy=90.22: 100%|██████████| 782/782 [01:07<00:00, 11.54it/s]\n",
            "  0%|          | 0/782 [00:00<?, ?it/s]"
          ],
          "name": "stderr"
        },
        {
          "output_type": "stream",
          "text": [
            "\n",
            "Validation set: Average loss: 0.0064, Accuracy: 8713/10000 (87.13%)\n",
            "\n",
            "Epoch 12:\n"
          ],
          "name": "stdout"
        },
        {
          "output_type": "stream",
          "text": [
            "Loss=0.36 Batch_ID=781 Accuracy=91.19: 100%|██████████| 782/782 [01:07<00:00, 11.51it/s]\n",
            "  0%|          | 0/782 [00:00<?, ?it/s]"
          ],
          "name": "stderr"
        },
        {
          "output_type": "stream",
          "text": [
            "\n",
            "Validation set: Average loss: 0.0072, Accuracy: 8606/10000 (86.06%)\n",
            "\n",
            "Epoch 13:\n"
          ],
          "name": "stdout"
        },
        {
          "output_type": "stream",
          "text": [
            "Loss=0.21 Batch_ID=781 Accuracy=91.62: 100%|██████████| 782/782 [01:07<00:00, 11.55it/s]\n",
            "  0%|          | 0/782 [00:00<?, ?it/s]"
          ],
          "name": "stderr"
        },
        {
          "output_type": "stream",
          "text": [
            "\n",
            "Validation set: Average loss: 0.0067, Accuracy: 8672/10000 (86.72%)\n",
            "\n",
            "Epoch 14:\n"
          ],
          "name": "stdout"
        },
        {
          "output_type": "stream",
          "text": [
            "Loss=0.47 Batch_ID=781 Accuracy=92.40: 100%|██████████| 782/782 [01:07<00:00, 11.59it/s]\n",
            "  0%|          | 0/782 [00:00<?, ?it/s]"
          ],
          "name": "stderr"
        },
        {
          "output_type": "stream",
          "text": [
            "\n",
            "Validation set: Average loss: 0.0067, Accuracy: 8717/10000 (87.17%)\n",
            "\n",
            "Epoch 15:\n"
          ],
          "name": "stdout"
        },
        {
          "output_type": "stream",
          "text": [
            "Loss=0.25 Batch_ID=781 Accuracy=92.86: 100%|██████████| 782/782 [01:07<00:00, 11.58it/s]\n",
            "  0%|          | 0/782 [00:00<?, ?it/s]"
          ],
          "name": "stderr"
        },
        {
          "output_type": "stream",
          "text": [
            "\n",
            "Validation set: Average loss: 0.0065, Accuracy: 8698/10000 (86.98%)\n",
            "\n",
            "Epoch 16:\n"
          ],
          "name": "stdout"
        },
        {
          "output_type": "stream",
          "text": [
            "Loss=0.07 Batch_ID=781 Accuracy=93.21: 100%|██████████| 782/782 [01:07<00:00, 11.54it/s]\n",
            "  0%|          | 0/782 [00:00<?, ?it/s]"
          ],
          "name": "stderr"
        },
        {
          "output_type": "stream",
          "text": [
            "\n",
            "Validation set: Average loss: 0.0083, Accuracy: 8531/10000 (85.31%)\n",
            "\n",
            "Epoch 17:\n"
          ],
          "name": "stdout"
        },
        {
          "output_type": "stream",
          "text": [
            "Loss=0.25 Batch_ID=781 Accuracy=93.72: 100%|██████████| 782/782 [01:07<00:00, 11.55it/s]\n",
            "  0%|          | 0/782 [00:00<?, ?it/s]"
          ],
          "name": "stderr"
        },
        {
          "output_type": "stream",
          "text": [
            "\n",
            "Validation set: Average loss: 0.0062, Accuracy: 8795/10000 (87.95%)\n",
            "\n",
            "Epoch 18:\n"
          ],
          "name": "stdout"
        },
        {
          "output_type": "stream",
          "text": [
            "Loss=0.45 Batch_ID=781 Accuracy=94.10: 100%|██████████| 782/782 [01:07<00:00, 11.54it/s]\n",
            "  0%|          | 0/782 [00:00<?, ?it/s]"
          ],
          "name": "stderr"
        },
        {
          "output_type": "stream",
          "text": [
            "\n",
            "Validation set: Average loss: 0.0063, Accuracy: 8788/10000 (87.88%)\n",
            "\n",
            "Epoch 19:\n"
          ],
          "name": "stdout"
        },
        {
          "output_type": "stream",
          "text": [
            "Loss=0.02 Batch_ID=781 Accuracy=94.51: 100%|██████████| 782/782 [01:07<00:00, 11.57it/s]\n",
            "  0%|          | 0/782 [00:00<?, ?it/s]"
          ],
          "name": "stderr"
        },
        {
          "output_type": "stream",
          "text": [
            "\n",
            "Validation set: Average loss: 0.0071, Accuracy: 8731/10000 (87.31%)\n",
            "\n",
            "Epoch 20:\n"
          ],
          "name": "stdout"
        },
        {
          "output_type": "stream",
          "text": [
            "Loss=0.02 Batch_ID=781 Accuracy=95.01: 100%|██████████| 782/782 [01:07<00:00, 11.58it/s]\n",
            "  0%|          | 0/782 [00:00<?, ?it/s]"
          ],
          "name": "stderr"
        },
        {
          "output_type": "stream",
          "text": [
            "\n",
            "Validation set: Average loss: 0.0062, Accuracy: 8896/10000 (88.96%)\n",
            "\n",
            "Epoch 21:\n"
          ],
          "name": "stdout"
        },
        {
          "output_type": "stream",
          "text": [
            "Loss=0.04 Batch_ID=781 Accuracy=95.03: 100%|██████████| 782/782 [01:07<00:00, 11.58it/s]\n",
            "  0%|          | 0/782 [00:00<?, ?it/s]"
          ],
          "name": "stderr"
        },
        {
          "output_type": "stream",
          "text": [
            "\n",
            "Validation set: Average loss: 0.0061, Accuracy: 8854/10000 (88.54%)\n",
            "\n",
            "Epoch 22:\n"
          ],
          "name": "stdout"
        },
        {
          "output_type": "stream",
          "text": [
            "Loss=0.07 Batch_ID=781 Accuracy=95.42: 100%|██████████| 782/782 [01:07<00:00, 11.56it/s]\n",
            "  0%|          | 0/782 [00:00<?, ?it/s]"
          ],
          "name": "stderr"
        },
        {
          "output_type": "stream",
          "text": [
            "\n",
            "Validation set: Average loss: 0.0064, Accuracy: 8841/10000 (88.41%)\n",
            "\n",
            "Epoch 23:\n"
          ],
          "name": "stdout"
        },
        {
          "output_type": "stream",
          "text": [
            "Loss=0.82 Batch_ID=781 Accuracy=95.58: 100%|██████████| 782/782 [01:07<00:00, 11.58it/s]\n",
            "  0%|          | 0/782 [00:00<?, ?it/s]"
          ],
          "name": "stderr"
        },
        {
          "output_type": "stream",
          "text": [
            "\n",
            "Validation set: Average loss: 0.0056, Accuracy: 8935/10000 (89.35%)\n",
            "\n",
            "Epoch 24:\n"
          ],
          "name": "stdout"
        },
        {
          "output_type": "stream",
          "text": [
            "Loss=0.03 Batch_ID=781 Accuracy=95.61: 100%|██████████| 782/782 [01:07<00:00, 11.56it/s]\n",
            "  0%|          | 0/782 [00:00<?, ?it/s]"
          ],
          "name": "stderr"
        },
        {
          "output_type": "stream",
          "text": [
            "\n",
            "Validation set: Average loss: 0.0061, Accuracy: 8909/10000 (89.09%)\n",
            "\n",
            "Epoch 25:\n"
          ],
          "name": "stdout"
        },
        {
          "output_type": "stream",
          "text": [
            "Loss=0.16 Batch_ID=781 Accuracy=95.91: 100%|██████████| 782/782 [01:07<00:00, 11.57it/s]\n",
            "  0%|          | 0/782 [00:00<?, ?it/s]"
          ],
          "name": "stderr"
        },
        {
          "output_type": "stream",
          "text": [
            "\n",
            "Validation set: Average loss: 0.0059, Accuracy: 8937/10000 (89.37%)\n",
            "\n",
            "Epoch 26:\n"
          ],
          "name": "stdout"
        },
        {
          "output_type": "stream",
          "text": [
            "Loss=0.44 Batch_ID=781 Accuracy=96.24: 100%|██████████| 782/782 [01:07<00:00, 11.60it/s]\n",
            "  0%|          | 0/782 [00:00<?, ?it/s]"
          ],
          "name": "stderr"
        },
        {
          "output_type": "stream",
          "text": [
            "\n",
            "Validation set: Average loss: 0.0059, Accuracy: 8921/10000 (89.21%)\n",
            "\n",
            "Epoch 27:\n"
          ],
          "name": "stdout"
        },
        {
          "output_type": "stream",
          "text": [
            "Loss=0.61 Batch_ID=781 Accuracy=96.18: 100%|██████████| 782/782 [01:07<00:00, 11.56it/s]\n",
            "  0%|          | 0/782 [00:00<?, ?it/s]"
          ],
          "name": "stderr"
        },
        {
          "output_type": "stream",
          "text": [
            "\n",
            "Validation set: Average loss: 0.0057, Accuracy: 8961/10000 (89.61%)\n",
            "\n",
            "Epoch 28:\n"
          ],
          "name": "stdout"
        },
        {
          "output_type": "stream",
          "text": [
            "Loss=0.12 Batch_ID=781 Accuracy=96.30: 100%|██████████| 782/782 [01:07<00:00, 11.54it/s]\n",
            "  0%|          | 0/782 [00:00<?, ?it/s]"
          ],
          "name": "stderr"
        },
        {
          "output_type": "stream",
          "text": [
            "\n",
            "Validation set: Average loss: 0.0064, Accuracy: 8878/10000 (88.78%)\n",
            "\n",
            "Epoch 29:\n"
          ],
          "name": "stdout"
        },
        {
          "output_type": "stream",
          "text": [
            "Loss=0.03 Batch_ID=781 Accuracy=96.68: 100%|██████████| 782/782 [01:07<00:00, 11.56it/s]\n",
            "  0%|          | 0/782 [00:00<?, ?it/s]"
          ],
          "name": "stderr"
        },
        {
          "output_type": "stream",
          "text": [
            "\n",
            "Validation set: Average loss: 0.0060, Accuracy: 8966/10000 (89.66%)\n",
            "\n",
            "Epoch 30:\n"
          ],
          "name": "stdout"
        },
        {
          "output_type": "stream",
          "text": [
            "Loss=0.09 Batch_ID=781 Accuracy=96.76: 100%|██████████| 782/782 [01:07<00:00, 11.52it/s]\n"
          ],
          "name": "stderr"
        },
        {
          "output_type": "stream",
          "text": [
            "\n",
            "Validation set: Average loss: 0.0061, Accuracy: 8990/10000 (89.90%)\n",
            "\n"
          ],
          "name": "stdout"
        }
      ]
    },
    {
      "cell_type": "markdown",
      "metadata": {
        "colab_type": "text",
        "id": "B7ufwZyTSKfk"
      },
      "source": [
        "## Result Analysis\n",
        "\n",
        "Displaying accuracy for each class in the entire validation dataset"
      ]
    },
    {
      "cell_type": "code",
      "metadata": {
        "id": "pDNFuDEDpoDG",
        "colab_type": "code",
        "outputId": "4a03b68d-0938-4c78-e364-c9d474a4144c",
        "colab": {
          "base_uri": "https://localhost:8080/",
          "height": 194
        }
      },
      "source": [
        "class_level_accuracy(model, val_loader, device, classes)"
      ],
      "execution_count": 11,
      "outputs": [
        {
          "output_type": "stream",
          "text": [
            "Accuracy of plane : 91 %\n",
            "Accuracy of   car : 95 %\n",
            "Accuracy of  bird : 88 %\n",
            "Accuracy of   cat : 70 %\n",
            "Accuracy of  deer : 89 %\n",
            "Accuracy of   dog : 88 %\n",
            "Accuracy of  frog : 94 %\n",
            "Accuracy of horse : 92 %\n",
            "Accuracy of  ship : 96 %\n",
            "Accuracy of truck : 93 %\n"
          ],
          "name": "stdout"
        }
      ]
    },
    {
      "cell_type": "code",
      "metadata": {
        "id": "lBXFeKGvXJba",
        "colab_type": "code",
        "colab": {}
      },
      "source": [
        ""
      ],
      "execution_count": 0,
      "outputs": []
    }
  ]
}